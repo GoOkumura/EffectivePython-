{
  "nbformat": 4,
  "nbformat_minor": 0,
  "metadata": {
    "colab": {
      "provenance": [],
      "authorship_tag": "ABX9TyOfaB9X4ZSKKaKDgREpZT+Y",
      "include_colab_link": true
    },
    "kernelspec": {
      "name": "python3",
      "display_name": "Python 3"
    },
    "language_info": {
      "name": "python"
    }
  },
  "cells": [
    {
      "cell_type": "markdown",
      "metadata": {
        "id": "view-in-github",
        "colab_type": "text"
      },
      "source": [
        "<a href=\"https://colab.research.google.com/github/GoOkumura/EffectivePython-/blob/main/Effective_Python.ipynb\" target=\"_parent\"><img src=\"https://colab.research.google.com/assets/colab-badge.svg\" alt=\"Open In Colab\"/></a>"
      ]
    },
    {
      "cell_type": "markdown",
      "source": [
        "**Pythonic思考**"
      ],
      "metadata": {
        "id": "bRiIp-kQo4Jx"
      }
    },
    {
      "cell_type": "code",
      "execution_count": null,
      "metadata": {
        "id": "T-dk0kcsoi9R",
        "colab": {
          "base_uri": "https://localhost:8080/"
        },
        "outputId": "85c5fb58-86cf-4129-fb8b-9cd6e048cb0b"
      },
      "outputs": [
        {
          "output_type": "stream",
          "name": "stdout",
          "text": [
            "The Zen of Python, by Tim Peters\n",
            "\n",
            "Beautiful is better than ugly.\n",
            "Explicit is better than implicit.\n",
            "Simple is better than complex.\n",
            "Complex is better than complicated.\n",
            "Flat is better than nested.\n",
            "Sparse is better than dense.\n",
            "Readability counts.\n",
            "Special cases aren't special enough to break the rules.\n",
            "Although practicality beats purity.\n",
            "Errors should never pass silently.\n",
            "Unless explicitly silenced.\n",
            "In the face of ambiguity, refuse the temptation to guess.\n",
            "There should be one-- and preferably only one --obvious way to do it.\n",
            "Although that way may not be obvious at first unless you're Dutch.\n",
            "Now is better than never.\n",
            "Although never is often better than *right* now.\n",
            "If the implementation is hard to explain, it's a bad idea.\n",
            "If the implementation is easy to explain, it may be a good idea.\n",
            "Namespaces are one honking great idea -- let's do more of those!\n"
          ]
        }
      ],
      "source": [
        "import this"
      ]
    },
    {
      "cell_type": "markdown",
      "source": [
        "The Zen of Python, by Tim Peters\n",
        "\n",
        "Beautiful is better than ugly.\n",
        "醜いより美しいほうがいい。\n",
        "\n",
        "Explicit is better than implicit.\n",
        "暗示するより明示するほうがいい。\n",
        "\n",
        "Simple is better than complex.\n",
        "複雑であるよりは平易であるほうがいい。\n",
        "\n",
        "Complex is better than complicated.\n",
        "それでも、込み入っているよりは複雑であるほうがまし。\n",
        "\n",
        "Flat is better than nested.\n",
        "ネストは浅いほうがいい。\n",
        "\n",
        "Sparse is better than dense.\n",
        "密集しているよりは隙間があるほうがいい。\n",
        "\n",
        "Readability counts.\n",
        "読みやすいことは善である。\n",
        "\n",
        "Special cases aren't special enough to break the rules.\n",
        "特殊であることはルールを破る理由にならない。\n",
        "\n",
        "Although practicality beats purity.\n",
        "しかし、実用性を求めると純粋さが失われることがある。\n",
        "\n",
        "Errors should never pass silently.\n",
        "エラーは隠すな、無視するな。\n",
        "\n",
        "Unless explicitly silenced.\n",
        "ただし、わざと隠されているのなら見逃せ。\n",
        "\n",
        "In the face of ambiguity, refuse the temptation to guess.\n",
        "曖昧なものに出逢ったら、その意味を適当に推測してはいけない。\n",
        "\n",
        "There should be one-- and preferably only one --obvious way to do it.\n",
        "何かいいやり方があるはずだ。誰が見ても明らかな、たったひとつのやり方が。\n",
        "\n",
        "Although that way may not be obvious at first unless you're Dutch.\n",
        "そのやり方は一目見ただけではわかりにくいかもしれない。オランダ人にだけわかりやすいなんてこともあるかもしれない。\n",
        "\n",
        "Now is better than never.\n",
        "ずっとやらないでいるよりは、今やれ。\n",
        "\n",
        "Although never is often better than *right* now.\n",
        "でも、今\"すぐ\"にやるよりはやらないほうがマシなことが多い。\n",
        "\n",
        "If the implementation is hard to explain, it's a bad idea.\n",
        "コードの内容を説明するのが難しいのなら、それは悪い実装である。\n",
        "\n",
        "If the implementation is easy to explain, it may be a good idea.\n",
        "コードの内容を容易に説明できるのなら、おそらくそれはよい実装である。\n",
        "\n",
        "Namespaces are one honking great idea -- let's do more of those!\n",
        "名前空間は優れたアイデアであるため、積極的に利用すべきである。"
      ],
      "metadata": {
        "id": "x04UP05coMLR"
      }
    },
    {
      "cell_type": "code",
      "source": [
        "import sys\n",
        "print(sys.version_info)\n",
        "print(sys.version)"
      ],
      "metadata": {
        "colab": {
          "base_uri": "https://localhost:8080/"
        },
        "id": "GIoSZhzfo40j",
        "outputId": "a83921c3-5343-4c00-8c47-14cea33e4f75"
      },
      "execution_count": null,
      "outputs": [
        {
          "output_type": "stream",
          "name": "stdout",
          "text": [
            "sys.version_info(major=3, minor=9, micro=16, releaselevel='final', serial=0)\n",
            "3.9.16 (main, Dec  7 2022, 01:11:51) \n",
            "[GCC 9.4.0]\n"
          ]
        }
      ]
    },
    {
      "cell_type": "markdown",
      "source": [
        "[PEP8スタイルガイド](https://www.python.org/dev/peps/pep-0008/)\n",
        "\n",
        "\n",
        "---\n",
        "\n",
        "\n",
        "**空白**\n",
        "*   インデントにはタブではなく空白を使う。\n",
        "*   構文上意味をもつレヴェルのインデントには、４個の空白を使う。\n",
        "*   各行は、長さが７９文字かそれ以下とする。\n",
        "*   長い四季を続ける為に次行を使う時は、通常のインデントから４個の追加空白を使ってインデントする。\n",
        "*   ファイルでは、関数とクラスは空白行で分ける。\n",
        "*   辞書では、キーとコロンの間には空白をおかず、同じ行に値を書く場合には値の前に空白を一つおく。\n",
        "*   変数代入の前後には、空白を一つ、必ず一つだけおく。\n",
        "*   型ヒント(型アノテーション)では、変数名の直後にコロンを一つおき、型情報の前に空白を一つおく。\n",
        "\n",
        "**名前付け**\n",
        "*   関数・変数・属性は、`lowercase_underscore`のように小文字でアンダースコアを挟む。\n",
        "*   プロテクテッド(保護)属性は、`_leading_underscore`のようにアンダースコアを先頭につける。\n",
        "*   プライベート属性は、`__double_underscore`のようにアンダースコアを２つ先頭につける。\n",
        "*   クラスと例外では、`CapitalizaeWord`のように銭湯を大文字にする。\n",
        "*   モジュールでの定数は、`ALL_CAPS`の様に全て大文字でアンダースコアを挟む。\n",
        "*   クラスのインスタンスメソッドは、(オブジェクトを参照する)第一パラメータの名前に`self`を使う。\n",
        "*   クラスメソッドは、(クラスを参照する)第一パラメータの名前に`cls`を使う。\n",
        "\n",
        "**式と文**\n",
        "*   式の否定(`if not a is b`)ではなく、内側の項の否定(`if a is not b`)を使う。\n",
        "*   コンテナやシーケンスの長さ(i`f len(somelist) == 0`)を使って、空値(`[]や''など`)かどうかをチェックしない。`if not somelist`を使って、空値が暗黙に`False`と評価される事を使う。\n",
        "*   上と同じことを、非空値(`[1]や'h1'など`)にも使う。非空値について、文`if somelist`は暗黙に`True`と評価される。\n",
        "*   式が１行に収まらない場合は、括弧で括って、複数行にして、読みやすいようにインデントする。\n",
        "*   `\\`で行を分けをする要理は、括弧を使って複数の指揮を囲む方が良い。\n",
        "\n",
        "**インポート**\n",
        "*   import文は(`from x import yも含めて`)常にファイルの先頭に置く。\n",
        "*   インポートするときは、常にモジュールの絶対名を使い、現モジュールのパスからの相対名を使わない。例えばモジュールfooをパッケージbarからインポートするときには、`import foo`ではなく`import bar from foo`を使う。\n",
        "*   相対インポートを使わなければならないときには、明示的な構文`from . import foo`を使う。\n",
        "*   インポートは、①標準ライブラリモジュール、②サードパーティモジュール、③自分の作成したモジュール、の順に行う。それぞれの部分では、アルファベット順にインポートする。"
      ],
      "metadata": {
        "id": "f8VO5qDfj9Wz"
      }
    },
    {
      "cell_type": "code",
      "source": [],
      "metadata": {
        "id": "NY465nH8pQAm"
      },
      "execution_count": null,
      "outputs": []
    }
  ]
}